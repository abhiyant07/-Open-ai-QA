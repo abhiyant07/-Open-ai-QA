{
 "cells": [
  {
   "cell_type": "code",
   "execution_count": 3,
   "id": "f23db00e",
   "metadata": {},
   "outputs": [],
   "source": [
    "from langchain.document_loaders import PyPDFDirectoryLoader\n",
    "from langchain.embeddings import OpenAIEmbeddings\n",
    "from langchain.vectorstores import Chroma\n",
    "from langchain.chains import ConversationalRetrievalChain\n",
    "from langchain.memory import ConversationBufferMemory\n",
    "from langchain.llms import OpenAI\n",
    "from langchain.embeddings.sentence_transformer import SentenceTransformerEmbeddings\n",
    "import os\n",
    "import glob\n",
    "import pandas as pd"
   ]
  },
  {
   "cell_type": "code",
   "execution_count": null,
   "id": "cb5c0436",
   "metadata": {},
   "outputs": [],
   "source": [
    "loader = PyPDFDirectoryLoader(\"./MyDrive/\")"
   ]
  },
  {
   "cell_type": "code",
   "execution_count": null,
   "id": "617d7684",
   "metadata": {},
   "outputs": [],
   "source": [
    "docs = loader.load()"
   ]
  },
  {
   "cell_type": "code",
   "execution_count": null,
   "id": "bc8792e0",
   "metadata": {},
   "outputs": [],
   "source": [
    "embedding_function = SentenceTransformerEmbeddings(model_name=\"all-MiniLM-L6-v2\")"
   ]
  },
  {
   "cell_type": "code",
   "execution_count": null,
   "id": "61f46c5e",
   "metadata": {},
   "outputs": [],
   "source": [
    "global vectorDB\n",
    "vectorDB = Chroma.from_documents(docs,embedding_function)"
   ]
  },
  {
   "cell_type": "code",
   "execution_count": null,
   "id": "954c95d9",
   "metadata": {},
   "outputs": [],
   "source": [
    "memory = ConversationBufferMemory(memory_key=\"chat_history\",return_messages=True)\n",
    "pdf_qa = ConversationalRetrievalChain.from_llm(OpenAI(temperature=0),vectordb.as_retriever(),memory=memory)"
   ]
  },
  {
   "cell_type": "code",
   "execution_count": null,
   "id": "17a9b253",
   "metadata": {},
   "outputs": [],
   "source": [
    "questions = \"\""
   ]
  },
  {
   "cell_type": "code",
   "execution_count": null,
   "id": "a3dd554e",
   "metadata": {},
   "outputs": [],
   "source": [
    "result = pdf_qa({\"question\": questions})\n",
    "print(result)"
   ]
  },
  {
   "cell_type": "code",
   "execution_count": null,
   "id": "9511daf7",
   "metadata": {},
   "outputs": [],
   "source": []
  }
 ],
 "metadata": {
  "kernelspec": {
   "display_name": "Python 3 (ipykernel)",
   "language": "python",
   "name": "python3"
  },
  "language_info": {
   "codemirror_mode": {
    "name": "ipython",
    "version": 3
   },
   "file_extension": ".py",
   "mimetype": "text/x-python",
   "name": "python",
   "nbconvert_exporter": "python",
   "pygments_lexer": "ipython3",
   "version": "3.11.3"
  }
 },
 "nbformat": 4,
 "nbformat_minor": 5
}
