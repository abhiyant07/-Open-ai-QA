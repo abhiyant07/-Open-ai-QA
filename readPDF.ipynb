{
 "cells": [
  {
   "cell_type": "code",
   "execution_count": 4,
   "id": "926d74e5",
   "metadata": {},
   "outputs": [
    {
     "name": "stdout",
     "output_type": "stream",
     "text": [
      "Collecting pymupdf\n",
      "  Downloading PyMuPDF-1.22.3-cp310-cp310-win_amd64.whl (11.7 MB)\n",
      "     ---------------------------------------- 11.7/11.7 MB 5.1 MB/s eta 0:00:00\n",
      "Installing collected packages: pymupdf\n",
      "Successfully installed pymupdf-1.22.3\n",
      "Note: you may need to restart the kernel to use updated packages.\n"
     ]
    }
   ],
   "source": [
    "#pip install pymupdf"
   ]
  },
  {
   "cell_type": "code",
   "execution_count": 9,
   "id": "8e944f10",
   "metadata": {},
   "outputs": [],
   "source": [
    "import fitz"
   ]
  },
  {
   "cell_type": "code",
   "execution_count": 13,
   "id": "a365d401",
   "metadata": {},
   "outputs": [],
   "source": [
    "with fitz.open(\"Exl_Reports_2023.pdf\") as doc:\n",
    "    for page in doc:\n",
    "        text = page.get_text()\n",
    "        with open(\"EXL_Reports_2023.txt\",\"a\") as f:\n",
    "            f.writelines(text)\n",
    "        f.close()"
   ]
  },
  {
   "cell_type": "code",
   "execution_count": 5,
   "id": "f588b1da",
   "metadata": {},
   "outputs": [],
   "source": [
    "lines=[]\n",
    "with open(\"EXL_Reports_2023.txt\",\"r\") as f:\n",
    "    \n",
    "    lines = f.readlines()\n",
    "    #print(lines)\n",
    "#for line in lines:\n",
    "    #if line not in '.-0123456789':\n",
    "        #print(\"Heading--->\",line)\n",
    "    \n",
    "    "
   ]
  },
  {
   "cell_type": "code",
   "execution_count": 6,
   "id": "0fc2fcd4",
   "metadata": {},
   "outputs": [
    {
     "name": "stdout",
     "output_type": "stream",
     "text": [
      "[\"Exl Reports 2023 First Quarter Results\\nApril 27, 2023\\n2023 First Quarter Revenue of $400.6 Million, up 21.7% year-over-year\\nQ1 Diluted EPS (GAAP) of $1.51, up 41.1% from $1.07 in Q1 of 2022\\nQ1 Adjusted Diluted EPS (Non-GAAP) (1) of $1.74, up 22.5% from $1.42 in Q1 of 2022\\nNEW YORK, April 27, 2023 (GLOBE NEWSWIRE) -- ExlService Holdings, Inc. (NASDAQ: EXLS), a leading data analytics and digital operations and\\nsolutions company, today announced its financial results for the quarter ended March 31, 2023.\\nRohit Kapoor, Vice Chairman and Chief Executive Officer, said, “We continued our strong momentum into the first quarter, with revenue growth of\\n21.7% and adjusted diluted EPS growth of 22.5%. Our data-led strategy has expanded our total addressable market and generated a sustainable\\ncompetitive advantage for EXL. The consistent execution of this strategy continues to fuel growth across our data analytics and digital operations and\\nsolutions businesses.”\\nMaurizio Nicolelli, Chief Financial Officer, said, “While we remain cautious on the macro-economic environment, we are increasing our revenue\\nguidance for the full year 2023 based on our strong momentum in the first quarter and current visibility for the remainder of the year. We now expect\\nrevenue to be in the range of $1.595 billion to $1.620 billion, up from our prior guidance of $1.560 billion to $1.600 billion. This represents 13% to 15%\\nyear-over-year growth on both a reported and constant currency basis. We are also increasing our adjusted diluted earnings per share guidance for\\n2023 to $6.75 to $6.90, from $6.60 to $6.80, representing growth of 12% to 15% over the prior year.”\\n______________________________________________________________\\nReconciliations of adjusted (non-GAAP) financial measures to the most directly comparable GAAP measures, where\\napplicable, are included at the end of this release under “Reconciliation of Adjusted Financial Measures to GAAP\\nMeasures.” These  non-GAAP  measures,  including  adjusted  diluted  EPS  and  constant  currency  measures,  are  not\\nmeasures of financial performance prepared in accordance with GAAP.\\n1. \\nFinancial Highlights: First Quarter 2023\\nRevenue for the quarter ended March 31, 2023 increased to $400.6 million compared to $329.2 million for the first quarter\\nof 2022, an increase of 21.7% on a reported basis and 23.0% on a constant currency basis. Revenue increased by 6.9%\\nsequentially on a reported basis and 6.6% on a constant currency basis from the fourth quarter of 2022.\\n \\n \\nRevenue\\n \\nGross Margin\\n \\n \\nThree months ended\\n \\nThree months ended\\nReportable Segments\\n \\nMarch 31, 2023\\n \\nMarch 31, 2022\\n \\nMarch 31, 2023\\n \\nMarch 31, 2022\\n \\n \\n(dollars in millions)\\n  \\n  \\nInsurance\\n $\\n125.9  $\\n103.3  \\n34.6%  \\n37.0%\\nHealthcare\\n  \\n26.7   \\n26.2  \\n29.6%  \\n32.5%\\nEmerging Business\\n  \\n66.2   \\n50.7  \\n45.6%  \\n42.4%\\nAnalytics\\n  \\n181.8   \\n149.0  \\n37.1%  \\n35.9%\\nTotal Revenue, net\\n $\\n400.6  $\\n329.2  \\n37.2%  \\n37.0%\\nOperating income margin for the quarter ended March 31, 2023 was 14.8%, compared to 13.4% for the first quarter of\\n2022 and 13.6% for the fourth quarter of 2022. Adjusted operating income margin for the quarter ended March 31, 2023\\nwas 19.4% compared to 18.2% for the first quarter of 2022 and 18.0% for the fourth quarter of 2022.\\nDiluted earnings per share for the quarter ended March 31, 2023 was $1.51 compared to $1.07 for the first quarter of 2022\\nand $0.94 for the fourth quarter of 2022. Adjusted diluted earnings per share for the quarter ended March 31, 2023 was\\n$1.74 compared to $1.42 for the first quarter of 2022 and $1.56 for the fourth quarter of 2022.\\nBusiness Highlights: First Quarter 2023\\nWon 16 new clients in the first quarter of 2023, with 12 in our digital operations and solutions business and 4 in analytics.\\nIncluded in Barron’s Top 100 Sustainable Companies list for the second consecutive year.\\nEarned gold medal rating for sustainability efforts by EcoVadis.\\nElevated Anand “Andy” Logani as Chief Digital Officer, with responsibility for EXL’s digital business leveraging data\\nanalytics, AI and cloud.\\nRecognized as a Leader in Everest Group’s 2023 Advanced Analytics and Insights Services PEAK Matrix® Assessment.\\nRecognized as a Leader in Payer Digital Transformation Services in ISG Provider Lens™ Healthcare Digital Services.\\n2023 Guidance\\nBased on current visibility, and a U.S. dollar to Indian rupee exchange rate of 82.5, U.K. pound sterling to U.S. dollar exchange rate of 1.23, U.S. dollar\\nto the Philippine peso exchange rate of 56.0 and all other currencies at current exchange rates, we are providing the following guidance for the full\\nyear 2023:\\nRevenue of $1.595 billion to $1.620 billion, representing an increase of 13% to 15% on both a reported and constant\\ncurrency basis from 2022.\\nAdjusted diluted earnings per share of $6.75 to $6.90, representing an increase of 12% to 15% from 2022.\\nConference Call\\nExlService Holdings, Inc. will host a conference call on Thursday, April 27, 2023 at 10:00 A.M. ET to discuss the Company’s quarterly operating and\\nfinancial  results.  The  conference  call  will  be  available  live  via  the  internet  by  accessing  the  investor  relations  section  of  EXL’s  website  at\\nir.exlservice.com, where an accompanying investor-friendly spreadsheet of historical operating and financial data can also be accessed. Please\\naccess the website at least fifteen minutes prior to the call to register, download and install any necessary audio software.\\nPlease note that there is a new system to access the live call-in order to ask questions. To join the live call, please register here. A dial-in and unique\\nPIN will be provided to join the call. For those who cannot access the live broadcast, a replay will be available on the EXL website ir.exlservice.com for\\na period of twelve months.\\nAbout ExlService Holdings, Inc.\\nEXL (NASDAQ: EXLS) is a leading data analytics and digital operations and solutions company that partners with clients to improve business\\noutcomes and unlock growth. By bringing together deep domain expertise with robust data, powerful analytics, cloud, artificial intelligence (“AI”) and\\nmachine learning (“ML”), we create agile, scalable solutions and execute complex operations for the world’s leading corporations in industries\\nincluding insurance, healthcare, banking and financial services, media, and retail, among others. Focused on driving faster decision-making and\\ntransforming operating models, EXL was founded on the core values of innovation, collaboration, excellence, integrity and respect. Headquartered in\\nNew York, our team is over 47,000 strong, with more than 50 offices spanning six continents. For more information, visit www.exlservice.com.\\nCautionary Statement Regarding Forward-Looking Statements This press release contains forward-looking statements within the meaning of the\\nUnited States Private Securities Litigation Reform Act of 1995. You should not place undue reliance on those statements because they are subject to\\nnumerous uncertainties and factors relating to EXL's operations and business environment, all of which are difficult to predict and many of which are\\nbeyond EXL’s control. Forward-looking statements include information concerning EXL’s possible or assumed future results of operations, including\\ndescriptions of its business strategy. These statements may include words such as “may,” “will,” “should,” “believe,” “expect,” “anticipate,” “intend,”\\n“plan,” “estimate” or similar expressions. These statements are based on assumptions that we have made in light of management's experience in the\\nindustry as well as its perceptions of historical trends, current conditions, expected future developments and other factors it believes are appropriate\\nunder the circumstances. You should understand that these statements are not guarantees of performance or results. They involve known and\\nunknown risks, uncertainties and assumptions. Although EXL believes that these forward-looking statements are based on reasonable assumptions,\\nyou should be aware that many factors could affect EXL’s actual financial results or results of operations and could cause actual results to differ\\nmaterially from those in the forward-looking statements. These factors, which include our ability to maintain and grow client demand, our ability to hire\\nand retain sufficiently trained employees, and our ability to accurately estimate and/or manage costs, rising interest rates, rising inflation and\\nrecessionary economic trends, are discussed in more detail in EXL’s filings with the Securities and Exchange Commission, including EXL’s Annual\\nReport on Form 10-K. You should keep in mind that any forward-looking statement made herein, or elsewhere, speaks only as of the date on which it\\nis made. New risks and uncertainties come up from time to time, and it is impossible to predict these events or how they may affect EXL. EXL has no\\nobligation to update any forward-looking statements after the date hereof, except as required by federal securities laws.\\nEXLSERVICE HOLDINGS, INC.\\nCONSOLIDATED STATEMENTS OF INCOME (UNAUDITED)\\n(In thousands, except per share amount and share count)\\n \\nThree months ended March 31,\\n \\n \\n2023\\n   \\n2022\\n \\nRevenues, net\\n$\\n400,643  $\\n329,208 \\nCost of revenues(1)\\n \\n251,469   \\n207,516 \\nGross profit(1)\\n \\n149,174   \\n121,692 \\nOperating expenses:\\n \\n  \\nGeneral and administrative expenses\\n \\n46,746   \\n39,945 \\nSelling and marketing expenses\\n \\n29,493   \\n24,170 \\nDepreciation and amortization expense\\n \\n13,487   \\n13,602 \\nTotal operating expenses\\n \\n89,726   \\n77,717 \\nIncome from operations\\n \\n59,448   \\n43,975 \\nForeign exchange gain, net\\n \\n105   \\n1,756 \\nInterest expense\\n \\n(3,385)   \\n(876)\\nOther income, net\\n \\n3,155   \\n2,411 \\nIncome before income tax expense and earnings from equity affiliates\\n \\n59,323   \\n47,266 \\nIncome tax expense\\n \\n8,058   \\n11,202 \\nIncome before earnings from equity affiliates\\n \\n51,265   \\n36,064 \\nGain from equity-method investment\\n \\n66   \\n114 \\nNet income attributable to ExlService Holdings, Inc. stockholders\\n$\\n51,331  $\\n36,178 \\nEarnings per share attributable to ExlService Holdings, Inc. stockholders:\\n \\n  \\nBasic\\n$\\n1.54  $\\n1.08 \\nDiluted\\n$\\n1.51  $\\n1.07 \\nWeighted-average number of shares used in computing earnings per share attributable to\\nExlService Holdings Inc. stockholders:\\n \\n  \\nBasic\\n \\n33,439,564   \\n33,442,038 \\nDiluted\\n \\n33,931,480   \\n33,894,868 \\n(1) Exclusive of depreciation and amortization expense.\\nEXLSERVICE HOLDINGS, INC.\\nCONSOLIDATED BALANCE SHEETS (UNAUDITED)\\n(In thousands, except per share amount and share count)\\n \\n \\nAs of\\n \\n \\nMarch 31, 2023\\n \\nDecember 31, 2022\\n \\n  \\n  \\nAssets\\n  \\n  \\nCurrent assets:\\n  \\n  \\nCash and cash equivalents\\n $\\n87,298  $\\n118,669 \\nShort-term investments\\n  \\n116,479   \\n179,027 \\nRestricted cash\\n  \\n5,598   \\n4,897 \\nAccounts receivable, net\\n  \\n290,512   \\n259,222 \\nOther current assets\\n  \\n66,340   \\n50,979 \\nTotal current assets\\n  \\n566,227   \\n612,794 \\nProperty and equipment, net\\n  \\n86,652   \\n82,828 \\nOperating lease right-of-use assets\\n  \\n52,782   \\n55,347 \\nRestricted cash\\n  \\n2,069   \\n2,055 \\nDeferred tax assets, net\\n  \\n62,252   \\n55,791 \\nIntangible assets, net\\n  \\n60,681   \\n64,819 \\nGoodwill\\n  \\n405,824   \\n405,637 \\nLong-term investments\\n  \\n35,559   \\n34,779 \\nOther assets\\n  \\n36,525   \\n32,069 \\nTotal assets\\n $\\n1,308,571  $\\n1,346,119 \\nLiabilities and stockholders’ equity\\n  \\n  \\nCurrent liabilities:\\n  \\n  \\nAccounts payable\\n $\\n3,384  $\\n7,789 \\nCurrent portion of long-term borrowings\\n  \\n40,000   \\n30,000 \\nDeferred revenue\\n  \\n21,525   \\n18,782 \\nAccrued employee costs\\n  \\n49,955   \\n108,100 \\nAccrued expenses and other current liabilities\\n  \\n133,400   \\n95,352 \\nCurrent portion of operating lease liabilities\\n  \\n14,095   \\n14,978 \\nIncome taxes payable, net\\n  \\n18,545   \\n2,945 \\nTotal current liabilities\\n  \\n280,904   \\n277,946 \\nLong-term borrowings, less current portion\\n  \\n160,000   \\n220,000 \\nOperating lease liabilities, less current portion\\n  \\n45,655   \\n48,155 \\nDeferred tax liabilities, net\\n  \\n493   \\n547 \\nOther non-current liabilities\\n  \\n26,297   \\n41,292 \\nTotal liabilities\\n  \\n513,349   \\n587,940 \\nCommitments and contingencies\\n  \\n  \\nExlService Holdings, Inc. Stockholders’ equity:\\n  \\n  \\nPreferred stock, $0.001 par value; 15,000,000 shares authorized, none issued\\n  \\n—   \\n— \\nCommon stock, $0.001 par value; 100,000,000 shares authorized, 40,334,368 shares\\nissued and 33,321,455 shares outstanding as of March 31, 2023 and 39,987,976 shares\\nissued and 33,234,444 shares outstanding as of December 31, 2022\\n  \\n40   \\n40 \\nAdditional paid-in capital\\n  \\n460,527   \\n445,108 \\nRetained earnings\\n  \\n950,436   \\n899,105 \\nAccumulated other comprehensive loss\\n  \\n(131,487)   \\n(144,143)\\nTotal including shares held in treasury\\n  \\n1,279,516   \\n1,200,110 \\nLess: 7,012,913 shares as of March 31, 2023 and 6,753,532 shares as of December 31, 2022,\\nheld in treasury, at cost\\n  \\n(484,294)   \\n(441,931)\\nTotal Stockholders’ equity\\n  \\n795,222   \\n758,179 \\nTotal liabilities and stockholders’ equity\\n $\\n1,308,571  $\\n1,346,119 \\nEXLSERVICE HOLDINGS, INC.\\nReconciliation of Adjusted Financial Measures to GAAP Measures\\nIn addition to its reported operating results in accordance with U.S. generally accepted accounting principles (GAAP), EXL has included in this release\\ncertain financial measures that are considered non-GAAP financial measures, including the following:\\n \\n(i)\\nAdjusted operating income and adjusted operating income margin;\\n \\n(ii)\\nAdjusted EBITDA and adjusted EBITDA margin;\\n \\n(iii) Adjusted net income and adjusted diluted earnings per share; and\\n \\n(iv) Revenue growth on an organic constant currency basis.\\nThese non-GAAP financial measures are not based on any comprehensive set of accounting rules or principles, should not be considered a substitute\\nfor, or superior to, financial measures calculated in accordance with GAAP, and may be different from non-GAAP financial measures used by other\\ncompanies. Accordingly, the financial results calculated in accordance with GAAP and reconciliations from those financial statements should be\\ncarefully evaluated. EXL believes that providing these non-GAAP financial measures may help investors better understand EXL’s underlying financial\\nperformance. Management also believes that these non-GAAP financial measures, when read in conjunction with EXL’s reported results, can provide\\nuseful supplemental information for investors analyzing period-to-period comparisons of the Company’s results and comparisons of the Company’s\\nresults with the results of other companies. Additionally, management considers some of these non-GAAP financial measures to determine variable\\ncompensation of its employees. The Company believes that it is unreasonably difficult to provide its earnings per share financial guidance in\\naccordance with GAAP, or a qualitative reconciliation thereof, for a number of reasons, including, without limitation, the Company’s inability to predict\\nits future stock-based compensation expense under ASC Topic 718, the amortization of intangibles associated with further acquisitions and the\\ncurrency fluctuations and associated tax impacts. As such, the Company presents guidance with respect to adjusted diluted earnings per share. The\\nCompany also incurs significant non-cash charges for depreciation that may not be indicative of the Company’s ability to generate cash flow.\\nEXL non-GAAP financial measures exclude, where applicable, stock-based compensation expense, amortization of acquisition-related intangible\\nassets, provision for litigation settlement, impairment charges on acquired long-lived and intangible assets including goodwill, effects of termination of\\nleases, certain defined social security contributions, other acquisition-related expenses or benefits and effect of any non-recurring tax adjustments.\\nAcquisition-related expenses or benefits include, changes in the fair value of contingent consideration, external deal costs, integration expenses, direct\\nand incremental travel costs and non-recurring benefits or losses. Our adjusted net income and adjusted diluted EPS also excludes the effects of\\nincome tax on the above pre-tax items, as applicable. The effects of income tax of each item is calculated by applying the statutory rate of the local tax\\nregulations in the jurisdiction in which the item was incurred.\\nA limitation of using non-GAAP financial measures versus financial measures calculated in accordance with GAAP is that non-GAAP financial\\nmeasures do not reflect all of the amounts associated with our operating results as determined in accordance with GAAP and exclude costs that are\\nrecurring, namely stock-based compensation and amortization of acquisition-related intangible assets. EXL compensates for these limitations by\\nproviding specific information regarding the GAAP amounts excluded from non-GAAP financial measures to allow investors to evaluate such\\nnon-GAAP financial measures.\\nThe information provided on an organic constant currency basis reflects a comparison of current period results translated at the prior period currency\\nrates and exclude the impact from an acquisition for a twelve-month period from the date of the acquisition. This information is provided because EXL\\nbelieves that it provides useful comparative incremental information to investors regarding EXL’s true operating performance. EXL’s primary exchange\\nrate exposure is with the Indian rupee, the U.K. pound sterling and the Philippine peso. The average exchange rate of the U.S. dollar against the\\nIndian rupee increased from 75.25 during the quarter ended March 31, 2022 to 82.25 during the quarter ended March 31, 2023, representing a\\ndepreciation of 9.3% against the U.S. dollar. The average exchange rate of the U.S. dollar against the Philippine peso increased from 51.32 during the\\nquarter ended March 31, 2022 to 54.78 during the quarter ended March 31, 2023, representing a depreciation of 6.7% against the U.S. dollar. The\\naverage exchange rate of the U.K. pound sterling against the U.S. dollar decreased from 1.33 during the quarter ended March 31, 2022 to 1.23 during\\nthe quarter ended March 31, 2023, representing a depreciation of 7.9% against the U.S. dollar.\\nThe following table shows the reconciliation of these non-GAAP financial measures for the three months ended March 31, 2023 and March 31, 2022,\\nand the three months ended December 31, 2022:\\nReconciliation of Adjusted Operating Income and Adjusted EBITDA\\n(Amounts in thousands)\\n \\n \\nThree months ended\\n \\n \\nMarch 31,\\n \\nDecember 31,\\n \\n  \\n2023\\n   \\n2022\\n   \\n2022\\n \\nNet Income (GAAP)\\n $\\n51,331  $\\n36,178  $\\n31,849 \\nadd: Income tax expense\\n  \\n8,058   \\n11,202   \\n12,791 \\nadd/(subtract): Foreign exchange gain/(loss), interest expense, effects of\\nequity-method investment and other income/(loss), net\\n  \\n59   \\n(3,405)   \\n6,355 \\nIncome from operations (GAAP)\\n $\\n59,448  $\\n43,975  $\\n50,995 \\nadd: Stock-based compensation expense\\n  \\n14,407   \\n11,224   \\n12,616 \\nadd: Amortization of acquisition-related intangibles\\n  \\n4,149   \\n4,486   \\n4,234 \\nadd/(subtract): Other expenses/(benefits) (a)\\n  \\n(89)   \\n134   \\n(560)\\nAdjusted operating income (Non-GAAP)\\n $\\n77,915 \\n $\\n59,819 \\n $\\n67,285 \\nAdjusted operating income margin as a % of Revenue (Non-GAAP)\\n  \\n19.4%   \\n18.2%   \\n18.0%\\nadd: Depreciation on long-lived assets\\n  \\n8,589   \\n9,116   \\n9,687 \\nAdjusted EBITDA (Non-GAAP)\\n $\\n86,504  $\\n68,935  $\\n76,972 \\nAdjusted EBITDA margin as a % of revenue (Non-GAAP)\\n  \\n21.6%   \\n20.9%   \\n20.5%\\n(a) To exclude effects of lease termination of $89 and $nil during the three months ended March 31, 2023 and 2022 respectively, and $560 during the\\nthree months ended December 31, 2022, and to exclude acquisition-related expenses of $134 for the acquisition of Clairvoyant AI, Inc. (“Clairvoyant”)\\nduring the three months ended March 31, 2022.\\nReconciliation of Adjusted Net Income and Adjusted Diluted Earnings Per Share\\n(Amounts in thousands, except per share data)\\n \\n \\nThree months ended\\n \\n \\nMarch 31,\\n \\nDecember 31,\\n \\n  \\n2023\\n   \\n2022\\n   \\n2022\\n \\nNet income (GAAP)\\n $\\n51,331  $\\n36,178  $\\n31,849 \\nadd: Stock-based compensation expense\\n  \\n14,407   \\n11,224   \\n12,616 \\nadd: Amortization of acquisition-related intangibles\\n  \\n4,149   \\n4,486   \\n4,234 \\nadd: Effects of changes in fair value of contingent consideration\\n  \\n—   \\n—   \\n7,500 \\nadd/(subtract): Other expenses/(benefits) (a)\\n  \\n(89)   \\n134   \\n(560)\\nsubtract: Tax impact on stock-based compensation expense (b)\\n  \\n(9,830)   \\n(2,806)   \\n(930)\\nsubtract: Tax impact on amortization of acquisition-related intangibles\\n  \\n(1,023)   \\n(1,052)   \\n(1,134)\\nadd: Tax impact on other benefits\\n  \\n22   \\n—   \\n141 \\nsubtract: Effect of non-recurring tax benefits (c)\\n  \\n—   \\n—   \\n(1,079)\\nAdjusted net income (Non-GAAP)\\n $\\n58,967  $\\n48,164  $\\n52,637 \\nAdjusted diluted earnings per share (Non-GAAP)\\n $\\n1.74  $\\n1.42  $\\n1.56 \\n(a) To exclude effects of lease termination of $89 and $nil during the three months ended March 31, 2023 and 2022 respectively, and $560 during the\\nthree months ended December 31, 2022, and to exclude acquisition-related expenses of $134 for the acquisition of Clairvoyant during the three\\nmonths ended March 31, 2022.\\n(b) Tax impact includes $12,520 and $3,610 during the three months ended March 31, 2023 and 2022 respectively, and $2,349 during the three\\nmonths  ended  December  31,  2022,  related  to  discrete  benefits  recognized  in  income  tax  expense  in  accordance  with  ASU  No.  2016-09,\\nCompensation - Stock Compensation.\\n(c) To exclude other tax expense/(benefits) related to certain deferred tax assets and liabilities.\\nContacts:\\nInvestor Relations\\nJohn Kristoff\\nVice President, Investor Relations\\n+1 212 209 4613\\nir@exlservice.com\\nMedia - US\\nKeith Little\\nSenior Manager, Media Relations\\n+1 703 598 0980\\nmedia.relations@exlservice.com\\nMedia - UK, Europe, and APAC\\nAnna Price\\nFirst Light Group\\n+44 202 617 7240\\nexlteam@firstlightgroup.io\\nMedia - India\\nShailendra Singh\\nVice President Corporate Communications\\n+91 9810476075\\nshailendra.singh@exlservice.com\\nSource: ExlService Holdings, Inc.\\n\"]\n"
     ]
    }
   ],
   "source": [
    "f = open('EXL_Reports_2023.txt', 'r')\n",
    "\n",
    "data = f.read()\n",
    "array1 = []\n",
    "array2 = []\n",
    "array3 = []\n",
    "splat = data.split(\"\\n\\n\")\n",
    "for number, paragraph in enumerate(splat, 1):\n",
    "    if number % 3 == 1:\n",
    "        array1 += [paragraph]\n",
    "    elif number % 3 == 2:\n",
    "        array2 += [paragraph]\n",
    "    elif number % 3 == 0:\n",
    "        array3 += [paragraph]\n",
    "print(array1)"
   ]
  },
  {
   "cell_type": "code",
   "execution_count": 7,
   "id": "3b2feb1f",
   "metadata": {},
   "outputs": [
    {
     "name": "stdout",
     "output_type": "stream",
     "text": [
      "[]\n"
     ]
    }
   ],
   "source": [
    "print(array2)"
   ]
  },
  {
   "cell_type": "code",
   "execution_count": 8,
   "id": "8c0896e3",
   "metadata": {},
   "outputs": [
    {
     "name": "stdout",
     "output_type": "stream",
     "text": [
      "[]\n"
     ]
    }
   ],
   "source": [
    "print(array3)"
   ]
  },
  {
   "cell_type": "code",
   "execution_count": null,
   "id": "3872bb10",
   "metadata": {},
   "outputs": [],
   "source": []
  }
 ],
 "metadata": {
  "kernelspec": {
   "display_name": "Python 3 (ipykernel)",
   "language": "python",
   "name": "python3"
  },
  "language_info": {
   "codemirror_mode": {
    "name": "ipython",
    "version": 3
   },
   "file_extension": ".py",
   "mimetype": "text/x-python",
   "name": "python",
   "nbconvert_exporter": "python",
   "pygments_lexer": "ipython3",
   "version": "3.10.9"
  }
 },
 "nbformat": 4,
 "nbformat_minor": 5
}
